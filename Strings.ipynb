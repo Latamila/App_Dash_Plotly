{
  "nbformat": 4,
  "nbformat_minor": 0,
  "metadata": {
    "colab": {
      "provenance": [],
      "authorship_tag": "ABX9TyO45X/httqbojg4NjNz+iO8",
      "include_colab_link": true
    },
    "kernelspec": {
      "name": "python3",
      "display_name": "Python 3"
    },
    "language_info": {
      "name": "python"
    }
  },
  "cells": [
    {
      "cell_type": "markdown",
      "metadata": {
        "id": "view-in-github",
        "colab_type": "text"
      },
      "source": [
        "<a href=\"https://colab.research.google.com/github/Latamila/App_Dash_Plotly/blob/main/Strings.ipynb\" target=\"_parent\"><img src=\"https://colab.research.google.com/assets/colab-badge.svg\" alt=\"Open In Colab\"/></a>"
      ]
    },
    {
      "cell_type": "code",
      "execution_count": null,
      "metadata": {
        "id": "LJXKFEfIVpAq"
      },
      "outputs": [],
      "source": [
        "'''\n",
        "Escrever uma função que recebe uma lista de strings contendo\n",
        "nomes de pessoas como parametro e devolve o nome mais curto. A\n",
        "função deve ignorar espaços antes e depois do nome e deve devolver o nome\n",
        "capitalizado, apenas com a primeira letra maiuscula.\n",
        "'''"
      ]
    },
    {
      "cell_type": "code",
      "source": [
        "def nome_mais_curto(list):\n",
        "    nome_curto = list[0]\n",
        "    for i in range(len(list)):\n",
        "        nome = list[i].strip()\n",
        "        nome = nome.capitalize()\n",
        "        if len(nome) < len(nome_curto):\n",
        "            nome_curto = nome\n",
        "\n",
        "    return nome_curto\n",
        "\n",
        "lista= ['camila','alex','mateus','jonas','ana']\n",
        "nome_mais_curto(lista)"
      ],
      "metadata": {
        "colab": {
          "base_uri": "https://localhost:8080/",
          "height": 36
        },
        "id": "vSGoPoJyV7zv",
        "outputId": "ed9c0e32-c651-4c23-b37e-87f008747678"
      },
      "execution_count": 7,
      "outputs": [
        {
          "output_type": "execute_result",
          "data": {
            "text/plain": [
              "'Ana'"
            ],
            "application/vnd.google.colaboratory.intrinsic+json": {
              "type": "string"
            }
          },
          "metadata": {},
          "execution_count": 7
        }
      ]
    },
    {
      "cell_type": "code",
      "source": [],
      "metadata": {
        "id": "byU07EmxXUsl"
      },
      "execution_count": null,
      "outputs": []
    }
  ]
}